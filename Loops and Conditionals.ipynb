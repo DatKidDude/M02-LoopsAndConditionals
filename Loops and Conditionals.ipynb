{
 "cells": [
  {
   "cell_type": "markdown",
   "id": "811b8c73",
   "metadata": {},
   "source": [
    "# 4.1\n",
    "\n",
    "## I only put the if after the else statement because it said check for equality. "
   ]
  },
  {
   "cell_type": "code",
   "execution_count": 20,
   "id": "048acdb9",
   "metadata": {},
   "outputs": [
    {
     "name": "stdout",
     "output_type": "stream",
     "text": [
      "too low\n"
     ]
    }
   ],
   "source": [
    "secret = 8\n",
    "guess = 4\n",
    "if guess < secret: # if guess is less than secret\n",
    "    print(\"too low\")\n",
    "elif guess > secret: # if guess is greater than secret\n",
    "    print(\"too high\")\n",
    "else: \n",
    "    if guess == secret: # if guess is equal to secret\n",
    "        print(\"just right\")"
   ]
  },
  {
   "cell_type": "markdown",
   "id": "2810cad6",
   "metadata": {},
   "source": [
    "# 4.2"
   ]
  },
  {
   "cell_type": "code",
   "execution_count": 17,
   "id": "5ebc4543",
   "metadata": {},
   "outputs": [
    {
     "name": "stdout",
     "output_type": "stream",
     "text": [
      "cherry\n"
     ]
    }
   ],
   "source": [
    "small = True\n",
    "green = False\n",
    "\n",
    "if small: # if small is true\n",
    "    if green: # if green is true \n",
    "        print(\"pea\") # print pea\n",
    "    else: # if small is true and green is false \n",
    "        print(\"cherry\") # print cherry\n",
    "else: \n",
    "    if green: # if green is true and small is false\n",
    "        print(\"watermelon\") # print watermelon\n",
    "    else:\n",
    "        print(\"pumpkin\") # if small and green are false print pumpkin"
   ]
  },
  {
   "cell_type": "markdown",
   "id": "b873b2d4",
   "metadata": {},
   "source": [
    "# 6.1"
   ]
  },
  {
   "cell_type": "code",
   "execution_count": 22,
   "id": "5d5a198a",
   "metadata": {},
   "outputs": [
    {
     "name": "stdout",
     "output_type": "stream",
     "text": [
      "3\n",
      "2\n",
      "1\n",
      "0\n"
     ]
    }
   ],
   "source": [
    "myList = [3, 2, 1, 0]\n",
    "\n",
    "for i in myList:\n",
    "    print(i)"
   ]
  },
  {
   "cell_type": "markdown",
   "id": "e34b1f74",
   "metadata": {},
   "source": [
    "# 6.2"
   ]
  },
  {
   "cell_type": "code",
   "execution_count": 27,
   "id": "bcb0a6bf",
   "metadata": {},
   "outputs": [
    {
     "name": "stdout",
     "output_type": "stream",
     "text": [
      "too low\n",
      "too low\n",
      "too low\n",
      "too low\n",
      "too low\n",
      "too low\n",
      "found it\n"
     ]
    }
   ],
   "source": [
    "guess_me = 7\n",
    "number = 1\n",
    "\n",
    "while True:\n",
    "    if number < guess_me: # if number less than guess_me\n",
    "        print(\"too low\")\n",
    "    elif number == guess_me: # if number is equal to guess_me\n",
    "        print(\"found it\")\n",
    "        break;\n",
    "    else:\n",
    "        print(\"oops\") # if number greater than guess_me\n",
    "        break\n",
    "    number += 1"
   ]
  },
  {
   "cell_type": "markdown",
   "id": "ac0da7d9",
   "metadata": {},
   "source": [
    "# 6.3\n",
    "\n",
    "## From the way I understand the question the only way number will ever be bigger than guess_me is if you were to modify the range. \n",
    "\n",
    "Assign the value 5 to the variable guess_me. Use a for loop to iterate a variable called number over range(10). If number is less than guess_me, print 'too low'. If it equals guess_me, print found it! and then break out of the for loop. If number is greater than guess_me, print 'oops' and then exit the loop."
   ]
  },
  {
   "cell_type": "code",
   "execution_count": 32,
   "id": "92736e08",
   "metadata": {},
   "outputs": [
    {
     "name": "stdout",
     "output_type": "stream",
     "text": [
      "too low\n",
      "too low\n",
      "too low\n",
      "too low\n",
      "too low\n",
      "found it\n"
     ]
    }
   ],
   "source": [
    "guess_me = 5\n",
    "\n",
    "for number in range(10):\n",
    "    if number < guess_me: # if number less than guess_me\n",
    "        print(\"too low\")\n",
    "    elif number == guess_me: # if number is equal to guess_me\n",
    "        print(\"found it\")\n",
    "        break\n",
    "    else:\n",
    "        print(\"oops\") # if number is greater than guess_me\n",
    "        break"
   ]
  },
  {
   "cell_type": "markdown",
   "id": "e2f019ac",
   "metadata": {},
   "source": [
    "# number > guess_me test / modify the range"
   ]
  },
  {
   "cell_type": "code",
   "execution_count": 33,
   "id": "9a7818de",
   "metadata": {},
   "outputs": [
    {
     "name": "stdout",
     "output_type": "stream",
     "text": [
      "oops\n"
     ]
    }
   ],
   "source": [
    "guess_me = 5\n",
    "\n",
    "for number in range(10, 20):\n",
    "    if number < guess_me:\n",
    "        print(\"too low\")\n",
    "    elif number == guess_me:\n",
    "        print(\"found it\")\n",
    "        break\n",
    "    else:\n",
    "        print(\"oops\")\n",
    "        break"
   ]
  },
  {
   "cell_type": "markdown",
   "id": "807c8a06",
   "metadata": {},
   "source": [
    "# Modify the step value"
   ]
  },
  {
   "cell_type": "code",
   "execution_count": 34,
   "id": "1da58c7e",
   "metadata": {},
   "outputs": [
    {
     "name": "stdout",
     "output_type": "stream",
     "text": [
      "too low\n",
      "too low\n",
      "too low\n",
      "oops\n"
     ]
    }
   ],
   "source": [
    "guess_me = 5\n",
    "\n",
    "for number in range(0, 10, 2):\n",
    "    if number < guess_me:\n",
    "        print(\"too low\")\n",
    "    elif number == guess_me:\n",
    "        print(\"found it\")\n",
    "        break\n",
    "    else:\n",
    "        print(\"oops\")\n",
    "        break"
   ]
  },
  {
   "cell_type": "code",
   "execution_count": null,
   "id": "8bae498b",
   "metadata": {},
   "outputs": [],
   "source": []
  }
 ],
 "metadata": {
  "kernelspec": {
   "display_name": "Python 3 (ipykernel)",
   "language": "python",
   "name": "python3"
  },
  "language_info": {
   "codemirror_mode": {
    "name": "ipython",
    "version": 3
   },
   "file_extension": ".py",
   "mimetype": "text/x-python",
   "name": "python",
   "nbconvert_exporter": "python",
   "pygments_lexer": "ipython3",
   "version": "3.10.9"
  }
 },
 "nbformat": 4,
 "nbformat_minor": 5
}
